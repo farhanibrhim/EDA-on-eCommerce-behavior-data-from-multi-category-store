{
  "cells": [
    {
      "cell_type": "markdown",
      "metadata": {
        "id": "view-in-github",
        "colab_type": "text"
      },
      "source": [
        "<a href=\"https://colab.research.google.com/github/drshahizan/Python_EDA/blob/main/assignment/ass3/hpdp/PERgolakan/ass3.ipynb\" target=\"_parent\"><img src=\"https://colab.research.google.com/assets/colab-badge.svg\" alt=\"Open In Colab\"/></a>"
      ]
    },
    {
      "cell_type": "markdown",
      "metadata": {
        "id": "1VX8W6cK-Ytj"
      },
      "source": [
        "# Assingment 3: eCommerce behavior data from multi category store <a href=\"https://www.utm.my\" target=\"_parent\"><img src=\"https://colab.research.google.com/assets/colab-badge.svg\" alt=\"Open In Colab\"/></a>\n",
        "\n",
        "## Group Members\n",
        "\n",
        "|    Name           |           Matric Number       |                      \n",
        "|-------------------|-------------------------------|\n",
        "|Muhammad Fikri Bin Sharunazim    | A21EC0075       |\n",
        "|Muhammad Farhan Bin Ibrahim|        A21EC0072      |\n",
        "|Muhammad Adam Fahmi Bin Mohd Taufiq |A21EC0061|\n",
        "|Mikhail Bin Yassin |A21EC0053                      |\n",
        "\n",
        "---\n",
        "\n",
        "\n"
      ]
    },
    {
      "cell_type": "markdown",
      "source": [
        "##1. Dataset Selection\n",
        "**eCommerce behavior data from multi category store**\n",
        "\n",
        "This file contain behavior data for 7 months (from October 2019 to April 2020) from a large multi-category online store.\n",
        "\n",
        "Each row in the file represents an event. All events are related to products and users. Each event is like many-to-many relation between products and users.\n",
        "\n",
        "Data collected by Open CDP project. Feel free to use open source customer data platform.\n",
        "\n",
        "How to read it\n",
        "There are different types of events. See below.\n",
        "\n",
        "[ Semantics (or how to read it): User user_id during session user_session added to shopping cart (property event_type is equal cart) product product_id of brand brand of category category_code (category_code) with price price at event_time ]\n",
        "\n",
        "-------------------------------------------------------------------------\n",
        "\n",
        "**File structure:**\n",
        "\n",
        "'event_time' = Time when event happened at (in UTC).\n",
        "\n",
        "'event_type' = Only one kind of event: purchase.\n",
        "\n",
        "'product_id' = ID of a product.\n",
        "\n",
        "'category_id' = Product's category ID.\n",
        "\n",
        "'category_code' = Product's category taxonomy (code name) if possible. Usually present for meaningful categories, skipped for accessories.\n",
        "\n",
        "'brand' = Downcased string of brand name. Can be missed.\n",
        "\n",
        "'price' = Float price of a product. Present.\n",
        "\n",
        "'user_id' = Permanent user ID.\n",
        "\n",
        "'user_session' = Temporary user's session ID. Same for each user's session. Changes when the user returns from a long pause.\n",
        "\n",
        "--------------------------------------------------------------------------\n",
        "\n",
        "**Event types**\n",
        "Events can be:\n",
        "\n",
        "- view - a user viewed a product\n",
        "- cart - a user added a product to shopping cart\n",
        "- remove_from_cart - a user removed a product from shopping cart\n",
        "- purchase - a user purchased a product\n",
        "\n",
        "-------------------------------------------------------------------------\n",
        "\n",
        "**Note that**:\n",
        "Multiple purchases per session\n",
        "\n",
        "A session can have multiple purchase events. It's ok, because it's a single order."
      ],
      "metadata": {
        "id": "o9uN9lItRb56"
      }
    },
    {
      "cell_type": "markdown",
      "metadata": {
        "id": "m7eIaN_gPL3q"
      },
      "source": [
        "## 2. Data Acquisition"
      ]
    },
    {
      "cell_type": "markdown",
      "source": [
        "Install kaggle data in Google Colab by download and unzip the folder in order to obtain dataset '2019-Oct.csv'"
      ],
      "metadata": {
        "id": "3ih25edhppCa"
      }
    },
    {
      "cell_type": "code",
      "execution_count": null,
      "metadata": {
        "colab": {
          "base_uri": "https://localhost:8080/"
        },
        "id": "do7-BUcsKxoi",
        "outputId": "8b5a4e72-aa69-4acf-9ffb-11287f76e5dd"
      },
      "outputs": [
        {
          "output_type": "stream",
          "name": "stdout",
          "text": [
            "Downloading ecommerce-behavior-data-from-multi-category-store.zip to /content\n",
            " 99% 4.27G/4.29G [00:45<00:00, 136MB/s]\n",
            "100% 4.29G/4.29G [00:45<00:00, 100MB/s]\n",
            "Archive:  ecommerce-behavior-data-from-multi-category-store.zip\n",
            "  inflating: 2019-Nov.csv            \n",
            "  inflating: 2019-Oct.csv            \n"
          ]
        }
      ],
      "source": [
        "!mkdir ~/.kaggle\n",
        "!cp kaggle.json ~/.kaggle/\n",
        "!chmod 600 ~/.kaggle/kaggle.json\n",
        "!kaggle datasets download -d mkechinov/ecommerce-behavior-data-from-multi-category-store\n",
        "! unzip ecommerce-behavior-data-from-multi-category-store.zip"
      ]
    },
    {
      "cell_type": "markdown",
      "source": [
        "## 3. Setting Up the Environment"
      ],
      "metadata": {
        "id": "i8I5x662SDvY"
      }
    },
    {
      "cell_type": "markdown",
      "source": [
        "Import necessaries tools & libraries"
      ],
      "metadata": {
        "id": "Yo6BxoX_qC9A"
      }
    },
    {
      "cell_type": "code",
      "execution_count": null,
      "metadata": {
        "id": "hrpiO6DQ-fwI"
      },
      "outputs": [],
      "source": [
        "import numpy as np\n",
        "import pandas as pd\n",
        "import os\n",
        "import seaborn as sns\n",
        "import matplotlib.pyplot as plt\n",
        "import matplotlib.dates as mdates"
      ]
    },
    {
      "cell_type": "markdown",
      "source": [
        "Remove unused datasets and folder to minimize disk storage"
      ],
      "metadata": {
        "id": "XkWYYgkMqNF5"
      }
    },
    {
      "cell_type": "code",
      "execution_count": null,
      "metadata": {
        "id": "NcPCWHc8HT4M"
      },
      "outputs": [],
      "source": [
        "os.remove('2019-Nov.csv')\n",
        "os.remove('ecommerce-behavior-data-from-multi-category-store.zip')"
      ]
    },
    {
      "cell_type": "markdown",
      "source": [
        "Read '2019-Oct.csv' dataset and in this assignment we exclude 'user_session' column because we don't use it."
      ],
      "metadata": {
        "id": "UclgtybRqYfI"
      }
    },
    {
      "cell_type": "code",
      "execution_count": null,
      "metadata": {
        "id": "XQSieNH_9uFH"
      },
      "outputs": [],
      "source": [
        "# Reading the data in chunks\n",
        "data = pd.read_csv('2019-Oct.csv', chunksize=300000)\n",
        "\n",
        "# Concatenating the chunks together\n",
        "df = pd.concat(data)"
      ]
    },
    {
      "cell_type": "markdown",
      "source": [
        "Overview of the dataset"
      ],
      "metadata": {
        "id": "bKHkmvcHqo1H"
      }
    },
    {
      "cell_type": "code",
      "execution_count": null,
      "metadata": {
        "colab": {
          "base_uri": "https://localhost:8080/",
          "height": 143
        },
        "id": "PAoxmKD__ava",
        "outputId": "e7ca71e7-17db-497c-9ace-67c366cc79ef"
      },
      "outputs": [
        {
          "output_type": "execute_result",
          "data": {
            "text/plain": [
              "                event_time event_type  product_id          category_id  \\\n",
              "0  2019-10-01 00:00:00 UTC       view    44600062  2103807459595387724   \n",
              "1  2019-10-01 00:00:00 UTC       view     3900821  2053013552326770905   \n",
              "2  2019-10-01 00:00:01 UTC       view    17200506  2053013559792632471   \n",
              "\n",
              "                         category_code     brand   price    user_id  \\\n",
              "0                                  NaN  shiseido   35.79  541312140   \n",
              "1  appliances.environment.water_heater      aqua   33.20  554748717   \n",
              "2           furniture.living_room.sofa       NaN  543.10  519107250   \n",
              "\n",
              "                           user_session  \n",
              "0  72d76fde-8bb3-4e00-8c23-a032dfed738c  \n",
              "1  9333dfbd-b87a-4708-9857-6336556b0fcc  \n",
              "2  566511c2-e2e3-422b-b695-cf8e6e792ca8  "
            ],
            "text/html": [
              "\n",
              "  <div id=\"df-465d47a2-9483-48a4-9e9d-a9690a3e2faa\" class=\"colab-df-container\">\n",
              "    <div>\n",
              "<style scoped>\n",
              "    .dataframe tbody tr th:only-of-type {\n",
              "        vertical-align: middle;\n",
              "    }\n",
              "\n",
              "    .dataframe tbody tr th {\n",
              "        vertical-align: top;\n",
              "    }\n",
              "\n",
              "    .dataframe thead th {\n",
              "        text-align: right;\n",
              "    }\n",
              "</style>\n",
              "<table border=\"1\" class=\"dataframe\">\n",
              "  <thead>\n",
              "    <tr style=\"text-align: right;\">\n",
              "      <th></th>\n",
              "      <th>event_time</th>\n",
              "      <th>event_type</th>\n",
              "      <th>product_id</th>\n",
              "      <th>category_id</th>\n",
              "      <th>category_code</th>\n",
              "      <th>brand</th>\n",
              "      <th>price</th>\n",
              "      <th>user_id</th>\n",
              "      <th>user_session</th>\n",
              "    </tr>\n",
              "  </thead>\n",
              "  <tbody>\n",
              "    <tr>\n",
              "      <th>0</th>\n",
              "      <td>2019-10-01 00:00:00 UTC</td>\n",
              "      <td>view</td>\n",
              "      <td>44600062</td>\n",
              "      <td>2103807459595387724</td>\n",
              "      <td>NaN</td>\n",
              "      <td>shiseido</td>\n",
              "      <td>35.79</td>\n",
              "      <td>541312140</td>\n",
              "      <td>72d76fde-8bb3-4e00-8c23-a032dfed738c</td>\n",
              "    </tr>\n",
              "    <tr>\n",
              "      <th>1</th>\n",
              "      <td>2019-10-01 00:00:00 UTC</td>\n",
              "      <td>view</td>\n",
              "      <td>3900821</td>\n",
              "      <td>2053013552326770905</td>\n",
              "      <td>appliances.environment.water_heater</td>\n",
              "      <td>aqua</td>\n",
              "      <td>33.20</td>\n",
              "      <td>554748717</td>\n",
              "      <td>9333dfbd-b87a-4708-9857-6336556b0fcc</td>\n",
              "    </tr>\n",
              "    <tr>\n",
              "      <th>2</th>\n",
              "      <td>2019-10-01 00:00:01 UTC</td>\n",
              "      <td>view</td>\n",
              "      <td>17200506</td>\n",
              "      <td>2053013559792632471</td>\n",
              "      <td>furniture.living_room.sofa</td>\n",
              "      <td>NaN</td>\n",
              "      <td>543.10</td>\n",
              "      <td>519107250</td>\n",
              "      <td>566511c2-e2e3-422b-b695-cf8e6e792ca8</td>\n",
              "    </tr>\n",
              "  </tbody>\n",
              "</table>\n",
              "</div>\n",
              "    <div class=\"colab-df-buttons\">\n",
              "\n",
              "  <div class=\"colab-df-container\">\n",
              "    <button class=\"colab-df-convert\" onclick=\"convertToInteractive('df-465d47a2-9483-48a4-9e9d-a9690a3e2faa')\"\n",
              "            title=\"Convert this dataframe to an interactive table.\"\n",
              "            style=\"display:none;\">\n",
              "\n",
              "  <svg xmlns=\"http://www.w3.org/2000/svg\" height=\"24px\" viewBox=\"0 -960 960 960\">\n",
              "    <path d=\"M120-120v-720h720v720H120Zm60-500h600v-160H180v160Zm220 220h160v-160H400v160Zm0 220h160v-160H400v160ZM180-400h160v-160H180v160Zm440 0h160v-160H620v160ZM180-180h160v-160H180v160Zm440 0h160v-160H620v160Z\"/>\n",
              "  </svg>\n",
              "    </button>\n",
              "\n",
              "  <style>\n",
              "    .colab-df-container {\n",
              "      display:flex;\n",
              "      gap: 12px;\n",
              "    }\n",
              "\n",
              "    .colab-df-convert {\n",
              "      background-color: #E8F0FE;\n",
              "      border: none;\n",
              "      border-radius: 50%;\n",
              "      cursor: pointer;\n",
              "      display: none;\n",
              "      fill: #1967D2;\n",
              "      height: 32px;\n",
              "      padding: 0 0 0 0;\n",
              "      width: 32px;\n",
              "    }\n",
              "\n",
              "    .colab-df-convert:hover {\n",
              "      background-color: #E2EBFA;\n",
              "      box-shadow: 0px 1px 2px rgba(60, 64, 67, 0.3), 0px 1px 3px 1px rgba(60, 64, 67, 0.15);\n",
              "      fill: #174EA6;\n",
              "    }\n",
              "\n",
              "    .colab-df-buttons div {\n",
              "      margin-bottom: 4px;\n",
              "    }\n",
              "\n",
              "    [theme=dark] .colab-df-convert {\n",
              "      background-color: #3B4455;\n",
              "      fill: #D2E3FC;\n",
              "    }\n",
              "\n",
              "    [theme=dark] .colab-df-convert:hover {\n",
              "      background-color: #434B5C;\n",
              "      box-shadow: 0px 1px 3px 1px rgba(0, 0, 0, 0.15);\n",
              "      filter: drop-shadow(0px 1px 2px rgba(0, 0, 0, 0.3));\n",
              "      fill: #FFFFFF;\n",
              "    }\n",
              "  </style>\n",
              "\n",
              "    <script>\n",
              "      const buttonEl =\n",
              "        document.querySelector('#df-465d47a2-9483-48a4-9e9d-a9690a3e2faa button.colab-df-convert');\n",
              "      buttonEl.style.display =\n",
              "        google.colab.kernel.accessAllowed ? 'block' : 'none';\n",
              "\n",
              "      async function convertToInteractive(key) {\n",
              "        const element = document.querySelector('#df-465d47a2-9483-48a4-9e9d-a9690a3e2faa');\n",
              "        const dataTable =\n",
              "          await google.colab.kernel.invokeFunction('convertToInteractive',\n",
              "                                                    [key], {});\n",
              "        if (!dataTable) return;\n",
              "\n",
              "        const docLinkHtml = 'Like what you see? Visit the ' +\n",
              "          '<a target=\"_blank\" href=https://colab.research.google.com/notebooks/data_table.ipynb>data table notebook</a>'\n",
              "          + ' to learn more about interactive tables.';\n",
              "        element.innerHTML = '';\n",
              "        dataTable['output_type'] = 'display_data';\n",
              "        await google.colab.output.renderOutput(dataTable, element);\n",
              "        const docLink = document.createElement('div');\n",
              "        docLink.innerHTML = docLinkHtml;\n",
              "        element.appendChild(docLink);\n",
              "      }\n",
              "    </script>\n",
              "  </div>\n",
              "\n",
              "\n",
              "<div id=\"df-9755f598-20d6-4503-84be-f9359e0a8293\">\n",
              "  <button class=\"colab-df-quickchart\" onclick=\"quickchart('df-9755f598-20d6-4503-84be-f9359e0a8293')\"\n",
              "            title=\"Suggest charts\"\n",
              "            style=\"display:none;\">\n",
              "\n",
              "<svg xmlns=\"http://www.w3.org/2000/svg\" height=\"24px\"viewBox=\"0 0 24 24\"\n",
              "     width=\"24px\">\n",
              "    <g>\n",
              "        <path d=\"M19 3H5c-1.1 0-2 .9-2 2v14c0 1.1.9 2 2 2h14c1.1 0 2-.9 2-2V5c0-1.1-.9-2-2-2zM9 17H7v-7h2v7zm4 0h-2V7h2v10zm4 0h-2v-4h2v4z\"/>\n",
              "    </g>\n",
              "</svg>\n",
              "  </button>\n",
              "\n",
              "<style>\n",
              "  .colab-df-quickchart {\n",
              "      --bg-color: #E8F0FE;\n",
              "      --fill-color: #1967D2;\n",
              "      --hover-bg-color: #E2EBFA;\n",
              "      --hover-fill-color: #174EA6;\n",
              "      --disabled-fill-color: #AAA;\n",
              "      --disabled-bg-color: #DDD;\n",
              "  }\n",
              "\n",
              "  [theme=dark] .colab-df-quickchart {\n",
              "      --bg-color: #3B4455;\n",
              "      --fill-color: #D2E3FC;\n",
              "      --hover-bg-color: #434B5C;\n",
              "      --hover-fill-color: #FFFFFF;\n",
              "      --disabled-bg-color: #3B4455;\n",
              "      --disabled-fill-color: #666;\n",
              "  }\n",
              "\n",
              "  .colab-df-quickchart {\n",
              "    background-color: var(--bg-color);\n",
              "    border: none;\n",
              "    border-radius: 50%;\n",
              "    cursor: pointer;\n",
              "    display: none;\n",
              "    fill: var(--fill-color);\n",
              "    height: 32px;\n",
              "    padding: 0;\n",
              "    width: 32px;\n",
              "  }\n",
              "\n",
              "  .colab-df-quickchart:hover {\n",
              "    background-color: var(--hover-bg-color);\n",
              "    box-shadow: 0 1px 2px rgba(60, 64, 67, 0.3), 0 1px 3px 1px rgba(60, 64, 67, 0.15);\n",
              "    fill: var(--button-hover-fill-color);\n",
              "  }\n",
              "\n",
              "  .colab-df-quickchart-complete:disabled,\n",
              "  .colab-df-quickchart-complete:disabled:hover {\n",
              "    background-color: var(--disabled-bg-color);\n",
              "    fill: var(--disabled-fill-color);\n",
              "    box-shadow: none;\n",
              "  }\n",
              "\n",
              "  .colab-df-spinner {\n",
              "    border: 2px solid var(--fill-color);\n",
              "    border-color: transparent;\n",
              "    border-bottom-color: var(--fill-color);\n",
              "    animation:\n",
              "      spin 1s steps(1) infinite;\n",
              "  }\n",
              "\n",
              "  @keyframes spin {\n",
              "    0% {\n",
              "      border-color: transparent;\n",
              "      border-bottom-color: var(--fill-color);\n",
              "      border-left-color: var(--fill-color);\n",
              "    }\n",
              "    20% {\n",
              "      border-color: transparent;\n",
              "      border-left-color: var(--fill-color);\n",
              "      border-top-color: var(--fill-color);\n",
              "    }\n",
              "    30% {\n",
              "      border-color: transparent;\n",
              "      border-left-color: var(--fill-color);\n",
              "      border-top-color: var(--fill-color);\n",
              "      border-right-color: var(--fill-color);\n",
              "    }\n",
              "    40% {\n",
              "      border-color: transparent;\n",
              "      border-right-color: var(--fill-color);\n",
              "      border-top-color: var(--fill-color);\n",
              "    }\n",
              "    60% {\n",
              "      border-color: transparent;\n",
              "      border-right-color: var(--fill-color);\n",
              "    }\n",
              "    80% {\n",
              "      border-color: transparent;\n",
              "      border-right-color: var(--fill-color);\n",
              "      border-bottom-color: var(--fill-color);\n",
              "    }\n",
              "    90% {\n",
              "      border-color: transparent;\n",
              "      border-bottom-color: var(--fill-color);\n",
              "    }\n",
              "  }\n",
              "</style>\n",
              "\n",
              "  <script>\n",
              "    async function quickchart(key) {\n",
              "      const quickchartButtonEl =\n",
              "        document.querySelector('#' + key + ' button');\n",
              "      quickchartButtonEl.disabled = true;  // To prevent multiple clicks.\n",
              "      quickchartButtonEl.classList.add('colab-df-spinner');\n",
              "      try {\n",
              "        const charts = await google.colab.kernel.invokeFunction(\n",
              "            'suggestCharts', [key], {});\n",
              "      } catch (error) {\n",
              "        console.error('Error during call to suggestCharts:', error);\n",
              "      }\n",
              "      quickchartButtonEl.classList.remove('colab-df-spinner');\n",
              "      quickchartButtonEl.classList.add('colab-df-quickchart-complete');\n",
              "    }\n",
              "    (() => {\n",
              "      let quickchartButtonEl =\n",
              "        document.querySelector('#df-9755f598-20d6-4503-84be-f9359e0a8293 button');\n",
              "      quickchartButtonEl.style.display =\n",
              "        google.colab.kernel.accessAllowed ? 'block' : 'none';\n",
              "    })();\n",
              "  </script>\n",
              "</div>\n",
              "    </div>\n",
              "  </div>\n"
            ]
          },
          "metadata": {},
          "execution_count": 5
        }
      ],
      "source": [
        "df.head(3)"
      ]
    },
    {
      "cell_type": "markdown",
      "source": [
        "Display number of rows & columns"
      ],
      "metadata": {
        "id": "L1_bV5oXquda"
      }
    },
    {
      "cell_type": "code",
      "execution_count": null,
      "metadata": {
        "colab": {
          "base_uri": "https://localhost:8080/"
        },
        "id": "gFsMgaCfABnv",
        "outputId": "173c568a-4b49-4882-b32a-5a2b2acc7322"
      },
      "outputs": [
        {
          "output_type": "execute_result",
          "data": {
            "text/plain": [
              "(42448764, 9)"
            ]
          },
          "metadata": {},
          "execution_count": 6
        }
      ],
      "source": [
        "# number of rows & columns\n",
        "df.shape"
      ]
    },
    {
      "cell_type": "markdown",
      "metadata": {
        "id": "OVkFxAPpPEp-"
      },
      "source": [
        "## 4. Data Preprocessing"
      ]
    },
    {
      "cell_type": "markdown",
      "source": [
        "### 4.1 Handling Missing Values"
      ],
      "metadata": {
        "id": "IzdOxjAOSNz8"
      }
    },
    {
      "cell_type": "markdown",
      "source": [
        "Check for missing values in each columns"
      ],
      "metadata": {
        "id": "BFHsOJsEqy1Z"
      }
    },
    {
      "cell_type": "code",
      "execution_count": null,
      "metadata": {
        "colab": {
          "base_uri": "https://localhost:8080/"
        },
        "id": "s1b8u4aqAEzn",
        "outputId": "80a3b843-c218-4d62-914a-d0be255daf62"
      },
      "outputs": [
        {
          "output_type": "execute_result",
          "data": {
            "text/plain": [
              "event_time              0\n",
              "event_type              0\n",
              "product_id              0\n",
              "category_id             0\n",
              "category_code    13515609\n",
              "brand             6117080\n",
              "price                   0\n",
              "user_id                 0\n",
              "user_session            2\n",
              "dtype: int64"
            ]
          },
          "metadata": {},
          "execution_count": 7
        }
      ],
      "source": [
        "# check for missing values\n",
        "df.isna().sum()"
      ]
    },
    {
      "cell_type": "markdown",
      "source": [
        "We can see that there are missing values in columns 'category_code' and 'brand', Hence we will drop the missing values in next step."
      ],
      "metadata": {
        "id": "_d-R0vLkq4zr"
      }
    },
    {
      "cell_type": "code",
      "execution_count": null,
      "metadata": {
        "id": "I3Mkm_aQNpY0"
      },
      "outputs": [],
      "source": [
        "# drop rows where 'user_session', 'category_code' and 'brand' is NaN\n",
        "df.dropna(subset=['category_code'], inplace=True)\n",
        "df.dropna(subset=['brand'], inplace=True)\n",
        "df.dropna(subset=['user_session'], inplace=True)"
      ]
    },
    {
      "cell_type": "markdown",
      "metadata": {
        "id": "C3tasLESPAsP"
      },
      "source": [
        "### 4.2 Change DataType"
      ]
    },
    {
      "cell_type": "markdown",
      "source": [
        "In this section, we observe the data type of each columns. Our focus is to minimize as we can the memory usage in this dataset. Therefore, we will change data type of each columns into efficient data type."
      ],
      "metadata": {
        "id": "eCEdfrCirO0K"
      }
    },
    {
      "cell_type": "code",
      "execution_count": null,
      "metadata": {
        "colab": {
          "base_uri": "https://localhost:8080/"
        },
        "id": "5lS7W_mZ__wB",
        "outputId": "b1186390-e7b8-428b-dd31-6e7c603c26bf"
      },
      "outputs": [
        {
          "output_type": "stream",
          "name": "stdout",
          "text": [
            "<class 'pandas.core.frame.DataFrame'>\n",
            "Int64Index: 26560620 entries, 1 to 42448762\n",
            "Data columns (total 9 columns):\n",
            " #   Column         Dtype  \n",
            "---  ------         -----  \n",
            " 0   event_time     object \n",
            " 1   event_type     object \n",
            " 2   product_id     int64  \n",
            " 3   category_id    int64  \n",
            " 4   category_code  object \n",
            " 5   brand          object \n",
            " 6   price          float64\n",
            " 7   user_id        int64  \n",
            " 8   user_session   object \n",
            "dtypes: float64(1), int64(3), object(5)\n",
            "memory usage: 2.0+ GB\n"
          ]
        }
      ],
      "source": [
        "df.info()"
      ]
    },
    {
      "cell_type": "code",
      "source": [
        "df['user_session'] = df['user_session'].astype('string')"
      ],
      "metadata": {
        "id": "vLNJsCUzKttE"
      },
      "execution_count": null,
      "outputs": []
    },
    {
      "cell_type": "markdown",
      "source": [
        "#### 4.2.1 Date"
      ],
      "metadata": {
        "id": "6zFv8V0Et-VR"
      }
    },
    {
      "cell_type": "markdown",
      "source": [
        "First, we change 'event_time' column data type from objects into datetime. Due to high number of rows we use chunking method in order to minimize the RAM usage"
      ],
      "metadata": {
        "id": "iZPz2ALusA6U"
      }
    },
    {
      "cell_type": "code",
      "execution_count": null,
      "metadata": {
        "id": "JqRSLum2VO-i"
      },
      "outputs": [],
      "source": [
        "cols = [\"event_time\"]\n",
        "date_format = \"%Y-%m-%d\"  # Define the desired date format\n",
        "\n",
        "chunk_size = 300000\n",
        "df_len = len(df)\n",
        "\n",
        "for i in range(0, df_len, chunk_size):\n",
        "    chunk = df.iloc[i:i + chunk_size].copy()  # Extract a chunk of data\n",
        "\n",
        "    # Parse 'event_time' column to datetime format\n",
        "    chunk['event_time'] = pd.to_datetime(chunk['event_time'])\n",
        "\n",
        "    # Format 'event_time' column as \"yyyy-mm-dd\"\n",
        "    chunk['event_time'] = chunk['event_time'].dt.strftime(date_format)\n",
        "\n",
        "    # Update the original 'df' with the modified 'event_time' column\n",
        "    df.iloc[i:i + chunk_size, df.columns.get_loc('event_time')] = chunk['event_time']"
      ]
    },
    {
      "cell_type": "markdown",
      "source": [
        "Change 'event_time' column data type from objects into datetime"
      ],
      "metadata": {
        "id": "PpFl8nKPsXae"
      }
    },
    {
      "cell_type": "code",
      "execution_count": null,
      "metadata": {
        "id": "lyMr-R_-aCX4"
      },
      "outputs": [],
      "source": [
        "df['event_time']=pd.to_datetime(df['event_time'], errors=\"coerce\")"
      ]
    },
    {
      "cell_type": "markdown",
      "source": [
        "#### 4.2.2 Numerical"
      ],
      "metadata": {
        "id": "cT5OYshxuFUx"
      }
    },
    {
      "cell_type": "markdown",
      "source": [
        "Next, we find the max and min value in 'product_id' column to ensure if we can reduce the size of the data type."
      ],
      "metadata": {
        "id": "z5AR_XV3seBb"
      }
    },
    {
      "cell_type": "code",
      "execution_count": null,
      "metadata": {
        "colab": {
          "base_uri": "https://localhost:8080/"
        },
        "id": "nfuaqfUn_zxl",
        "outputId": "7e9c5282-c51a-41e8-d568-4a0e93fcd091"
      },
      "outputs": [
        {
          "output_type": "stream",
          "name": "stdout",
          "text": [
            "The highest value in 'product_id': 60500010\n",
            "The lowest value in 'product_id': 1000978\n"
          ]
        }
      ],
      "source": [
        "# check 'product_id' column highest value\n",
        "max_value = df['product_id'].max()\n",
        "# check 'product_id' column lowest value\n",
        "min_value = df['product_id'].min()\n",
        "\n",
        "print(f\"The highest value in 'product_id': {max_value}\")\n",
        "print(f\"The lowest value in 'product_id': {min_value}\")"
      ]
    },
    {
      "cell_type": "markdown",
      "source": [
        "We change 'product_id' column data type from int64 into int32"
      ],
      "metadata": {
        "id": "kFFp-NACs3MY"
      }
    },
    {
      "cell_type": "code",
      "execution_count": null,
      "metadata": {
        "id": "29tfWR2mBYQY"
      },
      "outputs": [],
      "source": [
        "# change the datatype 'product_id' from int64 to int32\n",
        "df['product_id'] = df['product_id'].astype('int32')"
      ]
    },
    {
      "cell_type": "markdown",
      "source": [
        "Then, we find the max and min value in 'category_id' column to ensure if we can reduce the size of the data type."
      ],
      "metadata": {
        "id": "Z737SoQrtDk0"
      }
    },
    {
      "cell_type": "code",
      "execution_count": null,
      "metadata": {
        "colab": {
          "base_uri": "https://localhost:8080/"
        },
        "id": "6G_MJwNpCkC7",
        "outputId": "57812238-4181-425d-d973-1daba5ff06b4"
      },
      "outputs": [
        {
          "output_type": "stream",
          "name": "stdout",
          "text": [
            "The highest value in 'category_id': 2173216765583032544\n",
            "The lowest value in 'category_id': 2053013552226107603\n"
          ]
        }
      ],
      "source": [
        "# check 'category_id' column highest value\n",
        "max_value = df['category_id'].max()\n",
        "# check 'product_id' column lowest value\n",
        "min_value = df['category_id'].min()\n",
        "\n",
        "print(f\"The highest value in 'category_id': {max_value}\")\n",
        "print(f\"The lowest value in 'category_id': {min_value}\")"
      ]
    },
    {
      "cell_type": "markdown",
      "source": [
        "Due to the max and min value of 'category_id' is to high, we maintain the data type"
      ],
      "metadata": {
        "id": "sugi3_ratIwz"
      }
    },
    {
      "cell_type": "markdown",
      "source": [
        "Then, we find the max and min value in 'user_id' column to ensure if we can reduce the size of the data type."
      ],
      "metadata": {
        "id": "8Sg4F11jtZLQ"
      }
    },
    {
      "cell_type": "code",
      "execution_count": null,
      "metadata": {
        "colab": {
          "base_uri": "https://localhost:8080/"
        },
        "id": "B2_MbInVDc-Q",
        "outputId": "a2a734d4-db51-4032-f06e-149d682be622"
      },
      "outputs": [
        {
          "output_type": "stream",
          "name": "stdout",
          "text": [
            "The highest value in 'user_id': 566280697\n",
            "The lowest value in 'user_id': 33869381\n"
          ]
        }
      ],
      "source": [
        "# check 'user_id' column highest value\n",
        "max_value = df['user_id'].max()\n",
        "# check 'user_id' column lowest value\n",
        "min_value = df['user_id'].min()\n",
        "\n",
        "print(f\"The highest value in 'user_id': {max_value}\")\n",
        "print(f\"The lowest value in 'user_id': {min_value}\")"
      ]
    },
    {
      "cell_type": "markdown",
      "source": [
        "We change 'user_id' column data type from int64 into int32"
      ],
      "metadata": {
        "id": "VS8a4FBStSME"
      }
    },
    {
      "cell_type": "code",
      "execution_count": null,
      "metadata": {
        "id": "g7MyCcTDDq2v"
      },
      "outputs": [],
      "source": [
        "# change the datatype 'user_id' from int64 to int32\n",
        "df['user_id'] = df['user_id'].astype('int32')"
      ]
    },
    {
      "cell_type": "markdown",
      "source": [
        "We find the max and min value in 'price' column to ensure if we can reduce the size of the data type."
      ],
      "metadata": {
        "id": "zO5A6KVktr4G"
      }
    },
    {
      "cell_type": "code",
      "execution_count": null,
      "metadata": {
        "colab": {
          "base_uri": "https://localhost:8080/"
        },
        "id": "Jgx-FL7vMU9R",
        "outputId": "21d5f179-a96f-4aea-d9d3-93d7d8f53dd6"
      },
      "outputs": [
        {
          "output_type": "stream",
          "name": "stdout",
          "text": [
            "The highest value in the price is: 2574.07\n",
            "The lowest value in the price is: 0.88\n"
          ]
        }
      ],
      "source": [
        "# check 'price' highest value\n",
        "highest_value = df['price'].max()\n",
        "\n",
        "# check 'price' lowest value\n",
        "lowest_value = df['price'].min()\n",
        "\n",
        "print(f\"The highest value in the price is: {highest_value}\")\n",
        "print(f\"The lowest value in the price is: {lowest_value}\")"
      ]
    },
    {
      "cell_type": "markdown",
      "source": [
        "We noticed that, we can reduce it by convert float64 into float32"
      ],
      "metadata": {
        "id": "MLEulB6VtuhY"
      }
    },
    {
      "cell_type": "code",
      "execution_count": null,
      "metadata": {
        "id": "u4h3-ZjNNWDs"
      },
      "outputs": [],
      "source": [
        "#change 'price' from float64 to float32\n",
        "df['price'] = df['price'].astype('float32')"
      ]
    },
    {
      "cell_type": "markdown",
      "source": [
        "#### 4.2.3 Categorical"
      ],
      "metadata": {
        "id": "yoti-et7uKyD"
      }
    },
    {
      "cell_type": "markdown",
      "source": [
        "Then, for categorical we observe the columns and decide whether we set them as category or strings or let it maintain as objects"
      ],
      "metadata": {
        "id": "-9o5Ik9-t4BA"
      }
    },
    {
      "cell_type": "code",
      "execution_count": null,
      "metadata": {
        "colab": {
          "base_uri": "https://localhost:8080/"
        },
        "id": "kzfp51z1NhH7",
        "outputId": "5a192643-29c6-470a-c82d-07af9dfdf8c4"
      },
      "outputs": [
        {
          "output_type": "stream",
          "name": "stdout",
          "text": [
            "view        25201706\n",
            "cart          809407\n",
            "purchase      549507\n",
            "Name: event_type, dtype: int64\n",
            "['view' 'purchase' 'cart']\n"
          ]
        }
      ],
      "source": [
        "# check the unique value in dataset\n",
        "value_counts = df['event_type'].value_counts()\n",
        "print(value_counts)\n",
        "\n",
        "unique_values = df['event_type'].unique()\n",
        "print(unique_values)"
      ]
    },
    {
      "cell_type": "markdown",
      "source": [
        "Change 'event_type' from objects to category"
      ],
      "metadata": {
        "id": "bnJsMmUYum9-"
      }
    },
    {
      "cell_type": "code",
      "execution_count": null,
      "metadata": {
        "id": "M1pN-kRVOXJi"
      },
      "outputs": [],
      "source": [
        "# change 'event_type' from object to categorical\n",
        "df['event_type'] = df['event_type'].astype('category')"
      ]
    },
    {
      "cell_type": "markdown",
      "source": [
        "Change 'category_code' from objects to category"
      ],
      "metadata": {
        "id": "o2bhm-Vtup_b"
      }
    },
    {
      "cell_type": "code",
      "execution_count": null,
      "metadata": {
        "id": "3uOg5LiZRonP"
      },
      "outputs": [],
      "source": [
        "# change 'category_code' from object to string\n",
        "df['category_code'] = df['category_code'].astype('category')"
      ]
    },
    {
      "cell_type": "code",
      "execution_count": null,
      "metadata": {
        "colab": {
          "base_uri": "https://localhost:8080/"
        },
        "id": "TBevwRexSzoJ",
        "outputId": "b46d1f6f-408a-48c3-de32-110ceed015ae"
      },
      "outputs": [
        {
          "output_type": "stream",
          "name": "stdout",
          "text": [
            "samsung      5158902\n",
            "apple        4092652\n",
            "xiaomi       2697644\n",
            "huawei       1092346\n",
            "lg            508999\n",
            "              ...   \n",
            "zazu               1\n",
            "yison              1\n",
            "tigres             1\n",
            "bodykraft          1\n",
            "ismart             1\n",
            "Name: brand, Length: 1731, dtype: int64\n",
            "Number of unique brands: 1731\n"
          ]
        }
      ],
      "source": [
        "# check the unique value in brand\n",
        "value_counts = df['brand'].value_counts()\n",
        "print(value_counts)\n",
        "\n",
        "unique_brand_count = df['brand'].nunique()\n",
        "print(\"Number of unique brands:\", unique_brand_count)"
      ]
    },
    {
      "cell_type": "markdown",
      "source": [
        "Change 'brand' from objects to category"
      ],
      "metadata": {
        "id": "UmkqdubluvoW"
      }
    },
    {
      "cell_type": "code",
      "execution_count": null,
      "metadata": {
        "id": "HYB-sdMeS82O"
      },
      "outputs": [],
      "source": [
        "# change 'brand' from object to string\n",
        "df['brand'] = df['brand'].astype('category')"
      ]
    },
    {
      "cell_type": "markdown",
      "source": [
        "### 4.3 Handling duplicates"
      ],
      "metadata": {
        "id": "uXEfBZNh5lni"
      }
    },
    {
      "cell_type": "markdown",
      "source": [
        "Find the total num of rows that are duplicates"
      ],
      "metadata": {
        "id": "JMY-WLqpu9Sd"
      }
    },
    {
      "cell_type": "code",
      "source": [
        "df.duplicated().sum()"
      ],
      "metadata": {
        "colab": {
          "base_uri": "https://localhost:8080/"
        },
        "id": "M8rFuraF-RkH",
        "outputId": "803a1dd1-c29a-4e8a-c1cb-f123415b0c40"
      },
      "execution_count": null,
      "outputs": [
        {
          "output_type": "execute_result",
          "data": {
            "text/plain": [
              "8769117"
            ]
          },
          "metadata": {},
          "execution_count": 27
        }
      ]
    },
    {
      "cell_type": "markdown",
      "source": [
        "Drop the duplicated rows from the dataset"
      ],
      "metadata": {
        "id": "XOULa6BavAeg"
      }
    },
    {
      "cell_type": "code",
      "source": [
        "df.drop_duplicates(inplace=True)"
      ],
      "metadata": {
        "id": "Gen70BxFKwSO"
      },
      "execution_count": null,
      "outputs": []
    },
    {
      "cell_type": "code",
      "source": [
        "df.info()"
      ],
      "metadata": {
        "colab": {
          "base_uri": "https://localhost:8080/"
        },
        "id": "FwKZjzzMMBaN",
        "outputId": "6865341d-6406-4ec5-de27-edaa4e24aaa3"
      },
      "execution_count": null,
      "outputs": [
        {
          "output_type": "stream",
          "name": "stdout",
          "text": [
            "<class 'pandas.core.frame.DataFrame'>\n",
            "Int64Index: 17791503 entries, 1 to 42448759\n",
            "Data columns (total 9 columns):\n",
            " #   Column         Dtype         \n",
            "---  ------         -----         \n",
            " 0   event_time     datetime64[ns]\n",
            " 1   event_type     category      \n",
            " 2   product_id     int32         \n",
            " 3   category_id    int64         \n",
            " 4   category_code  category      \n",
            " 5   brand          category      \n",
            " 6   price          float32       \n",
            " 7   user_id        int32         \n",
            " 8   user_session   string        \n",
            "dtypes: category(3), datetime64[ns](1), float32(1), int32(2), int64(1), string(1)\n",
            "memory usage: 814.5 MB\n"
          ]
        }
      ]
    },
    {
      "cell_type": "markdown",
      "source": [
        "As we can see, we successfully to reduce the memory usage from 2.8+GB into 814.5 MB by:\n",
        "\n",
        "- Handle the missing values\n",
        "- Change the data type of each columns\n",
        "- Handle duplicates in dataset\n",
        "\n",
        "Therefore, the memory usage has been reduced by approximately 70.89%."
      ],
      "metadata": {
        "id": "DowPUVdWvEt_"
      }
    },
    {
      "cell_type": "markdown",
      "source": [
        "## 5. Exploratary Data Analysis"
      ],
      "metadata": {
        "id": "2urtzKPyOCP1"
      }
    },
    {
      "cell_type": "markdown",
      "source": [
        "### 5.1 Summary Statistics"
      ],
      "metadata": {
        "id": "uExMVVgqOH1W"
      }
    },
    {
      "cell_type": "markdown",
      "source": [
        "This will show:\n",
        "\n",
        "- the count of that variable\n",
        "- the mean\n",
        "- the standard deviation (std)\n",
        "- the minimum value\n",
        "- the IQR (Interquartile Range: 25%, 50% and 75%)\n",
        "- the maximum value"
      ],
      "metadata": {
        "id": "L5kZoFzICm4W"
      }
    },
    {
      "cell_type": "code",
      "source": [
        "summary_stats = df['price'].describe()\n",
        "\n",
        "summary_stats"
      ],
      "metadata": {
        "colab": {
          "base_uri": "https://localhost:8080/"
        },
        "id": "Auvgo7NQMH_D",
        "outputId": "fdfaead8-51dc-4f8e-df07-b8e9620d53cd"
      },
      "execution_count": null,
      "outputs": [
        {
          "output_type": "execute_result",
          "data": {
            "text/plain": [
              "count    1.779150e+07\n",
              "mean     3.652847e+02\n",
              "std      3.958857e+02\n",
              "min      8.800000e-01\n",
              "25%      1.075000e+02\n",
              "50%      2.213400e+02\n",
              "75%      4.633300e+02\n",
              "max      2.574070e+03\n",
              "Name: price, dtype: float64"
            ]
          },
          "metadata": {},
          "execution_count": 30
        }
      ]
    },
    {
      "cell_type": "code",
      "source": [
        "category_columns = df.select_dtypes(include='category')\n",
        "category_description = df[category_columns.columns].describe()\n",
        "print(category_description)"
      ],
      "metadata": {
        "colab": {
          "base_uri": "https://localhost:8080/"
        },
        "id": "OOuT0DWpDLzQ",
        "outputId": "74c8a4e0-cfa7-4326-dd21-9179e1d59dbd"
      },
      "execution_count": null,
      "outputs": [
        {
          "output_type": "stream",
          "name": "stdout",
          "text": [
            "       event_type           category_code     brand\n",
            "count    17791503                17791503  17791503\n",
            "unique          3                     126      1731\n",
            "top          view  electronics.smartphone   samsung\n",
            "freq     16736551                 7752069   3419946\n"
          ]
        }
      ]
    },
    {
      "cell_type": "markdown",
      "source": [
        "### 5.2 Data Visualization"
      ],
      "metadata": {
        "id": "Ur0gNT3ePZ4c"
      }
    },
    {
      "cell_type": "code",
      "source": [
        "event_type_counts = df['event_type'].value_counts()\n",
        "\n",
        "# Define colors for each bar\n",
        "colors = ['red', 'orange', 'green', 'skyblue']  # Add more colors as needed for additional event types\n",
        "\n",
        "plt.figure(figsize=(8, 6))\n",
        "ax = event_type_counts.plot(kind='bar', color=colors)\n",
        "plt.title('Event Type Distribution')\n",
        "plt.xlabel('Event Type')\n",
        "plt.ylabel('Count')\n",
        "plt.xticks(rotation=0)\n",
        "\n",
        "# Adding text labels above each bar\n",
        "total_count = event_type_counts.sum()\n",
        "for i, count in enumerate(event_type_counts):\n",
        "    percentage = (count / total_count) * 100\n",
        "    plt.text(i, count + 5, f'{percentage:.1f}%', ha='center', va='bottom', fontsize=9)\n",
        "\n",
        "plt.tight_layout()\n",
        "plt.show()\n"
      ],
      "metadata": {
        "colab": {
          "base_uri": "https://localhost:8080/",
          "height": 607
        },
        "id": "muELqa6a4mKf",
        "outputId": "b7ac7541-3b25-4e7c-e063-f34532e2ac16"
      },
      "execution_count": null,
      "outputs": [
        {
          "output_type": "display_data",
          "data": {
            "text/plain": [
              "<Figure size 800x600 with 1 Axes>"
            ],
            "image/png": "[encoded data removed]"
          },
          "metadata": {}
        }
      ]
    },
    {
      "cell_type": "markdown",
      "source": [
        "The event type \"view\" holds the highest value among other event type which is \"cart\" and \"purchase\"."
      ],
      "metadata": {
        "id": "IoxEgWuddI99"
      }
    },
    {
      "cell_type": "code",
      "source": [
        "# 'price' distribution\n",
        "plt.hist(df['price'], bins=20, color='green', edgecolor='black')\n",
        "plt.xlabel('Price')\n",
        "plt.ylabel('Frequency')\n",
        "plt.title('Distribution of Prices')\n",
        "plt.show()\n"
      ],
      "metadata": {
        "colab": {
          "base_uri": "https://localhost:8080/",
          "height": 472
        },
        "id": "mFR7p61IOk7s",
        "outputId": "82abec05-64ef-4c22-c5f7-8c2ac2e4d3c6"
      },
      "execution_count": null,
      "outputs": [
        {
          "output_type": "display_data",
          "data": {
            "text/plain": [
              "<Figure size 640x480 with 1 Axes>"
            ],
            "image/png": "[encoded data removed]"
          },
          "metadata": {}
        }
      ]
    },
    {
      "cell_type": "markdown",
      "source": [
        "The graph shows that the majority of prices fall between 0 and 500, with a sharp decrease in frequency as the price increases."
      ],
      "metadata": {
        "id": "lasxv7Flc8Q1"
      }
    },
    {
      "cell_type": "code",
      "source": [
        "# Box Plot for Prices Across Event Types\n",
        "plt.figure(figsize=(8, 6))\n",
        "plt.boxplot([df[df['event_type'] == et]['price'] for et in df['event_type'].unique()], labels=df['event_type'].unique())\n",
        "plt.title('Price Distribution Across Event Types')\n",
        "plt.xlabel('Event Type')\n",
        "plt.ylabel('Price')\n",
        "plt.show()\n"
      ],
      "metadata": {
        "colab": {
          "base_uri": "https://localhost:8080/",
          "height": 564
        },
        "id": "FMsT1iYRPecq",
        "outputId": "056153a3-3a5b-4169-a7b3-dbaee256360d"
      },
      "execution_count": null,
      "outputs": [
        {
          "output_type": "display_data",
          "data": {
            "text/plain": [
              "<Figure size 800x600 with 1 Axes>"
            ],
            "image/png": "[encoded data removed]"
          },
          "metadata": {}
        }
      ]
    },
    {
      "cell_type": "code",
      "source": [
        "# Scatter plot for 'price' vs 'category_id'\n",
        "plt.scatter(df['category_id'], df['price'], alpha=0.5)\n",
        "plt.xlabel('Category ID')\n",
        "plt.ylabel('Price')\n",
        "plt.title('Scatter Plot: Price vs Category ID')\n",
        "plt.show()"
      ],
      "metadata": {
        "colab": {
          "base_uri": "https://localhost:8080/",
          "height": 472
        },
        "id": "bjroBFXXPkoT",
        "outputId": "d256b83c-9924-422e-bb31-a16d4e2d6844"
      },
      "execution_count": null,
      "outputs": [
        {
          "output_type": "display_data",
          "data": {
            "text/plain": [
              "<Figure size 640x480 with 1 Axes>"
            ],
            "image/png": "[encoded data removed]"
          },
          "metadata": {}
        }
      ]
    },
    {
      "cell_type": "markdown",
      "source": [
        "The scatter plot illustrates the distribution of prices across different category IDs. Each point represents a data point where the x-coordinate corresponds to the 'Category ID' and the y-coordinate corresponds to the 'Price'."
      ],
      "metadata": {
        "id": "BNaRGqwAgqNE"
      }
    },
    {
      "cell_type": "code",
      "source": [
        "correlation_matrix = df.corr()\n",
        "sns.heatmap(correlation_matrix, annot=True, cmap='coolwarm')\n",
        "plt.title('Correlation Matrix Heatmap')\n",
        "plt.show()"
      ],
      "metadata": {
        "colab": {
          "base_uri": "https://localhost:8080/",
          "height": 507
        },
        "id": "gqil4n3SPrAk",
        "outputId": "b2b224c2-7580-4f43-a4bb-ebfaf0835551"
      },
      "execution_count": null,
      "outputs": [
        {
          "output_type": "stream",
          "name": "stderr",
          "text": [
            "<ipython-input-38-6259d1c52006>:1: FutureWarning: The default value of numeric_only in DataFrame.corr is deprecated. In a future version, it will default to False. Select only valid columns or specify the value of numeric_only to silence this warning.\n",
            "  correlation_matrix = df.corr()\n"
          ]
        },
        {
          "output_type": "display_data",
          "data": {
            "text/plain": [
              "<Figure size 640x480 with 2 Axes>"
            ],
            "image/png": "[encoded data removed]"
          },
          "metadata": {}
        }
      ]
    },
    {
      "cell_type": "markdown",
      "source": [
        "Based on the heatmap illustrates above, we can conclude that there is positive correlation coefficient between 'category_id' and 'product_id'. But the correlation is not extremely strong."
      ],
      "metadata": {
        "id": "l1ZOKVaQhOGe"
      }
    },
    {
      "cell_type": "code",
      "source": [
        "event_count_by_date = df.groupby('event_time').size()\n",
        "\n",
        "plt.figure(figsize=(10, 6))\n",
        "event_count_by_date.plot(color='green')\n",
        "plt.title('Event Count Over Time')\n",
        "plt.xlabel('Date')\n",
        "plt.ylabel('Event Count')\n",
        "plt.xticks(rotation=45)\n",
        "plt.grid(True)\n",
        "plt.tight_layout()\n",
        "plt.show()\n",
        "\n",
        "plt.tight_layout()\n",
        "plt.show()"
      ],
      "metadata": {
        "colab": {
          "base_uri": "https://localhost:8080/",
          "height": 624
        },
        "id": "EniayvR9QV47",
        "outputId": "ec4e0d97-0cd1-4406-b04d-a3c065f20e93"
      },
      "execution_count": null,
      "outputs": [
        {
          "output_type": "display_data",
          "data": {
            "text/plain": [
              "<Figure size 1000x600 with 1 Axes>"
            ],
            "image/png": "[encoded data removed]"
          },
          "metadata": {}
        },
        {
          "output_type": "display_data",
          "data": {
            "text/plain": [
              "<Figure size 640x480 with 0 Axes>"
            ]
          },
          "metadata": {}
        }
      ]
    },
    {
      "cell_type": "markdown",
      "source": [
        "Based on the graph above, it shows that the peak amount of Event Count is on 15 Oct 2019 with the value of 675000."
      ],
      "metadata": {
        "id": "FKBTlaEIf7v3"
      }
    },
    {
      "cell_type": "code",
      "source": [
        "# Visualizing category code distribution (top 10 categories)\n",
        "top_categories = df['category_code'].value_counts().nlargest(10)\n",
        "\n",
        "# Define colors for each bar\n",
        "colors = ['skyblue', 'orange', 'green', 'red', 'purple', 'pink', 'yellow', 'cyan', 'magenta', 'lime']\n",
        "\n",
        "plt.figure(figsize=(10, 6))\n",
        "top_categories.plot(kind='bar', color=colors)\n",
        "plt.title('Top 10 Category Codes')\n",
        "plt.xlabel('Category Code')\n",
        "plt.ylabel('Count')\n",
        "plt.xticks(rotation=45)\n",
        "\n",
        "# Adding text labels above each bar\n",
        "total_count = top_categories.sum()\n",
        "for i, count in enumerate(top_categories):\n",
        "    percentage = (count / total_count) * 100\n",
        "    plt.text(i, count + 5, f'{percentage:.1f}%', ha='center', va='bottom', fontsize=9)\n",
        "\n",
        "plt.tight_layout()\n",
        "plt.show()"
      ],
      "metadata": {
        "colab": {
          "base_uri": "https://localhost:8080/",
          "height": 607
        },
        "id": "ZKsksY4PyZjr",
        "outputId": "99c286c4-6520-4a27-a362-f850110796a8"
      },
      "execution_count": null,
      "outputs": [
        {
          "output_type": "display_data",
          "data": {
            "text/plain": [
              "<Figure size 1000x600 with 1 Axes>"
            ],
            "image/png": "[encoded data removed]"
          },
          "metadata": {}
        }
      ]
    },
    {
      "cell_type": "markdown",
      "source": [
        "The top 10 category involve in user event (view, cart, purchase) is presented in bar graph above. electronics.smartphone is the highest with 59.9%. Note that, there are exist other brands with lowest percentage but didnt include in this graph due to high number of brand types."
      ],
      "metadata": {
        "id": "KDW01Ssad69M"
      }
    },
    {
      "cell_type": "code",
      "source": [
        "# Visualizing brand distribution (top 10 brand)\n",
        "top_brands = df['brand'].value_counts().nlargest(10)\n",
        "\n",
        "# Define colors for each bar\n",
        "colors = ['skyblue', 'orange', 'green', 'red', 'purple', 'pink', 'yellow', 'cyan', 'magenta', 'lime']\n",
        "\n",
        "plt.figure(figsize=(10, 6))\n",
        "ax = top_brands.plot(kind='bar', color=colors)\n",
        "plt.title('Top 10 Brands')\n",
        "plt.xlabel('Brand')\n",
        "plt.ylabel('Count')\n",
        "plt.xticks(rotation=45)\n",
        "\n",
        "# Adding text labels above each bar\n",
        "total_count = top_brands.sum()\n",
        "for i, count in enumerate(top_brands):\n",
        "    percentage = (count / total_count) * 100\n",
        "    plt.text(i, count + 5, f'{percentage:.1f}%', ha='center', va='bottom', fontsize=9)\n",
        "\n",
        "plt.tight_layout()\n",
        "plt.show()\n"
      ],
      "metadata": {
        "colab": {
          "base_uri": "https://localhost:8080/",
          "height": 607
        },
        "id": "J0eW9ASv38iD",
        "outputId": "84c191b3-457a-436b-c535-d9d4fe575f97"
      },
      "execution_count": null,
      "outputs": [
        {
          "output_type": "display_data",
          "data": {
            "text/plain": [
              "<Figure size 1000x600 with 1 Axes>"
            ],
            "image/png": "[encoded data removed]"
          },
          "metadata": {}
        }
      ]
    },
    {
      "cell_type": "markdown",
      "source": [
        "The top 10 brands in involve in user event (view, cart, purchase) is presented in bar graph above. Samsung is the highest with 33.2%. Note that, there are exist other brands with lowest percentage but didnt include in this graph due to high number of brand types."
      ],
      "metadata": {
        "id": "JHLptnbVbgTT"
      }
    },
    {
      "cell_type": "markdown",
      "source": [
        "### 5.3 Data Exploration"
      ],
      "metadata": {
        "id": "pthoHDMTSsC3"
      }
    },
    {
      "cell_type": "markdown",
      "source": [
        "When visualizing individual variables, it is important to first understand what type of variable you are dealing with. This will help us find the right visualization method for that variable."
      ],
      "metadata": {
        "id": "tonKYcurA6uO"
      }
    },
    {
      "cell_type": "code",
      "source": [
        "df.dtypes"
      ],
      "metadata": {
        "colab": {
          "base_uri": "https://localhost:8080/"
        },
        "id": "Sqfq1y4X_Z5B",
        "outputId": "0408b77c-53a8-4fca-822e-b0a277d40c54"
      },
      "execution_count": null,
      "outputs": [
        {
          "output_type": "execute_result",
          "data": {
            "text/plain": [
              "event_time       datetime64[ns]\n",
              "event_type             category\n",
              "product_id                int32\n",
              "category_id               int64\n",
              "category_code          category\n",
              "brand                  category\n",
              "price                   float32\n",
              "user_id                   int32\n",
              "user_session             string\n",
              "dtype: object"
            ]
          },
          "metadata": {},
          "execution_count": 42
        }
      ]
    },
    {
      "cell_type": "code",
      "source": [
        "# Calculate the purchase behavior of unique users\n",
        "purchase_behavior = df[df['event_type'] == 'purchase'].groupby('user_id')['event_type'].count()\n",
        "\n",
        "# Sort purchase behavior to get top 20 purchases\n",
        "top_20_purchases = purchase_behavior.sort_values(ascending=False).head(20)\n",
        "\n",
        "# Display the top 20 purchases of users\n",
        "print('Top 20 User purchased:')\n",
        "top_20_purchases"
      ],
      "metadata": {
        "colab": {
          "base_uri": "https://localhost:8080/"
        },
        "id": "pWTCUHoVMvLc",
        "outputId": "82c10d05-e1ad-4c07-8eba-7d4d251a5d55"
      },
      "execution_count": null,
      "outputs": [
        {
          "output_type": "stream",
          "name": "stdout",
          "text": [
            "Top 20 User purchased:\n"
          ]
        },
        {
          "output_type": "execute_result",
          "data": {
            "text/plain": [
              "user_id\n",
              "512386086    284\n",
              "513320236    172\n",
              "549109608    154\n",
              "543312954    154\n",
              "519267944    148\n",
              "513117637    142\n",
              "547330965    124\n",
              "538340540    120\n",
              "547101738    120\n",
              "558420737    116\n",
              "530834332    116\n",
              "556680161    110\n",
              "525351013    105\n",
              "535658024    103\n",
              "538216048    102\n",
              "545925192    100\n",
              "551361102     99\n",
              "513322839     96\n",
              "557646747     93\n",
              "538473314     93\n",
              "Name: event_type, dtype: int64"
            ]
          },
          "metadata": {},
          "execution_count": 53
        }
      ]
    },
    {
      "cell_type": "code",
      "source": [
        "purchase_events = df[df['event_type'] == 'purchase']\n",
        "repurchased_products = purchase_events.groupby(['user_session', 'product_id']).size().reset_index(name='purchase_count')\n",
        "top_10_repurchased = repurchased_products.sort_values('purchase_count', ascending=False).head(10)\n",
        "\n",
        "print('Top 10 Repurchased Product:')\n",
        "top_10_repurchased"
      ],
      "metadata": {
        "colab": {
          "base_uri": "https://localhost:8080/",
          "height": 380
        },
        "id": "XiuiVgGvSEzB",
        "outputId": "619f9a49-049c-4458-f158-590c151847b6"
      },
      "execution_count": null,
      "outputs": [
        {
          "output_type": "stream",
          "name": "stdout",
          "text": [
            "Top 10 Repurchased Product:\n"
          ]
        },
        {
          "output_type": "execute_result",
          "data": {
            "text/plain": [
              "                                user_session  product_id  purchase_count\n",
              "29504   0eedef43-b496-46a8-a027-70bdb0c1ed22     1004856               7\n",
              "48685   18c112c2-5470-4318-965e-050913a2e028     1004767               7\n",
              "301842  985aa12c-d4ab-4e7d-a343-46b55da15e6d     1004856               5\n",
              "141020  472a87fc-5578-4008-a8ab-dd134bcdf990     1307406               5\n",
              "141018  472a87fc-5578-4008-a8ab-dd134bcdf990     1004836               4\n",
              "29502   0eedef43-b496-46a8-a027-70bdb0c1ed22     1004767               4\n",
              "256507  817d438b-82a2-4add-b17c-ef89cb2edf65     1002544               4\n",
              "48687   18c112c2-5470-4318-965e-050913a2e028     1004856               4\n",
              "356077  b3b586ab-daf4-4f43-83f1-dc2692c0ef99     2702347               4\n",
              "29506   0eedef43-b496-46a8-a027-70bdb0c1ed22     1801712               3"
            ],
            "text/html": [
              "\n",
              "  <div id=\"df-8a4a421b-f04b-46c1-8e00-0aa844a6d926\" class=\"colab-df-container\">\n",
              "    <div>\n",
              "<style scoped>\n",
              "    .dataframe tbody tr th:only-of-type {\n",
              "        vertical-align: middle;\n",
              "    }\n",
              "\n",
              "    .dataframe tbody tr th {\n",
              "        vertical-align: top;\n",
              "    }\n",
              "\n",
              "    .dataframe thead th {\n",
              "        text-align: right;\n",
              "    }\n",
              "</style>\n",
              "<table border=\"1\" class=\"dataframe\">\n",
              "  <thead>\n",
              "    <tr style=\"text-align: right;\">\n",
              "      <th></th>\n",
              "      <th>user_session</th>\n",
              "      <th>product_id</th>\n",
              "      <th>purchase_count</th>\n",
              "    </tr>\n",
              "  </thead>\n",
              "  <tbody>\n",
              "    <tr>\n",
              "      <th>29504</th>\n",
              "      <td>0eedef43-b496-46a8-a027-70bdb0c1ed22</td>\n",
              "      <td>1004856</td>\n",
              "      <td>7</td>\n",
              "    </tr>\n",
              "    <tr>\n",
              "      <th>48685</th>\n",
              "      <td>18c112c2-5470-4318-965e-050913a2e028</td>\n",
              "      <td>1004767</td>\n",
              "      <td>7</td>\n",
              "    </tr>\n",
              "    <tr>\n",
              "      <th>301842</th>\n",
              "      <td>985aa12c-d4ab-4e7d-a343-46b55da15e6d</td>\n",
              "      <td>1004856</td>\n",
              "      <td>5</td>\n",
              "    </tr>\n",
              "    <tr>\n",
              "      <th>141020</th>\n",
              "      <td>472a87fc-5578-4008-a8ab-dd134bcdf990</td>\n",
              "      <td>1307406</td>\n",
              "      <td>5</td>\n",
              "    </tr>\n",
              "    <tr>\n",
              "      <th>141018</th>\n",
              "      <td>472a87fc-5578-4008-a8ab-dd134bcdf990</td>\n",
              "      <td>1004836</td>\n",
              "      <td>4</td>\n",
              "    </tr>\n",
              "    <tr>\n",
              "      <th>29502</th>\n",
              "      <td>0eedef43-b496-46a8-a027-70bdb0c1ed22</td>\n",
              "      <td>1004767</td>\n",
              "      <td>4</td>\n",
              "    </tr>\n",
              "    <tr>\n",
              "      <th>256507</th>\n",
              "      <td>817d438b-82a2-4add-b17c-ef89cb2edf65</td>\n",
              "      <td>1002544</td>\n",
              "      <td>4</td>\n",
              "    </tr>\n",
              "    <tr>\n",
              "      <th>48687</th>\n",
              "      <td>18c112c2-5470-4318-965e-050913a2e028</td>\n",
              "      <td>1004856</td>\n",
              "      <td>4</td>\n",
              "    </tr>\n",
              "    <tr>\n",
              "      <th>356077</th>\n",
              "      <td>b3b586ab-daf4-4f43-83f1-dc2692c0ef99</td>\n",
              "      <td>2702347</td>\n",
              "      <td>4</td>\n",
              "    </tr>\n",
              "    <tr>\n",
              "      <th>29506</th>\n",
              "      <td>0eedef43-b496-46a8-a027-70bdb0c1ed22</td>\n",
              "      <td>1801712</td>\n",
              "      <td>3</td>\n",
              "    </tr>\n",
              "  </tbody>\n",
              "</table>\n",
              "</div>\n",
              "    <div class=\"colab-df-buttons\">\n",
              "\n",
              "  <div class=\"colab-df-container\">\n",
              "    <button class=\"colab-df-convert\" onclick=\"convertToInteractive('df-8a4a421b-f04b-46c1-8e00-0aa844a6d926')\"\n",
              "            title=\"Convert this dataframe to an interactive table.\"\n",
              "            style=\"display:none;\">\n",
              "\n",
              "  <svg xmlns=\"http://www.w3.org/2000/svg\" height=\"24px\" viewBox=\"0 -960 960 960\">\n",
              "    <path d=\"M120-120v-720h720v720H120Zm60-500h600v-160H180v160Zm220 220h160v-160H400v160Zm0 220h160v-160H400v160ZM180-400h160v-160H180v160Zm440 0h160v-160H620v160ZM180-180h160v-160H180v160Zm440 0h160v-160H620v160Z\"/>\n",
              "  </svg>\n",
              "    </button>\n",
              "\n",
              "  <style>\n",
              "    .colab-df-container {\n",
              "      display:flex;\n",
              "      gap: 12px;\n",
              "    }\n",
              "\n",
              "    .colab-df-convert {\n",
              "      background-color: #E8F0FE;\n",
              "      border: none;\n",
              "      border-radius: 50%;\n",
              "      cursor: pointer;\n",
              "      display: none;\n",
              "      fill: #1967D2;\n",
              "      height: 32px;\n",
              "      padding: 0 0 0 0;\n",
              "      width: 32px;\n",
              "    }\n",
              "\n",
              "    .colab-df-convert:hover {\n",
              "      background-color: #E2EBFA;\n",
              "      box-shadow: 0px 1px 2px rgba(60, 64, 67, 0.3), 0px 1px 3px 1px rgba(60, 64, 67, 0.15);\n",
              "      fill: #174EA6;\n",
              "    }\n",
              "\n",
              "    .colab-df-buttons div {\n",
              "      margin-bottom: 4px;\n",
              "    }\n",
              "\n",
              "    [theme=dark] .colab-df-convert {\n",
              "      background-color: #3B4455;\n",
              "      fill: #D2E3FC;\n",
              "    }\n",
              "\n",
              "    [theme=dark] .colab-df-convert:hover {\n",
              "      background-color: #434B5C;\n",
              "      box-shadow: 0px 1px 3px 1px rgba(0, 0, 0, 0.15);\n",
              "      filter: drop-shadow(0px 1px 2px rgba(0, 0, 0, 0.3));\n",
              "      fill: #FFFFFF;\n",
              "    }\n",
              "  </style>\n",
              "\n",
              "    <script>\n",
              "      const buttonEl =\n",
              "        document.querySelector('#df-8a4a421b-f04b-46c1-8e00-0aa844a6d926 button.colab-df-convert');\n",
              "      buttonEl.style.display =\n",
              "        google.colab.kernel.accessAllowed ? 'block' : 'none';\n",
              "\n",
              "      async function convertToInteractive(key) {\n",
              "        const element = document.querySelector('#df-8a4a421b-f04b-46c1-8e00-0aa844a6d926');\n",
              "        const dataTable =\n",
              "          await google.colab.kernel.invokeFunction('convertToInteractive',\n",
              "                                                    [key], {});\n",
              "        if (!dataTable) return;\n",
              "\n",
              "        const docLinkHtml = 'Like what you see? Visit the ' +\n",
              "          '<a target=\"_blank\" href=https://colab.research.google.com/notebooks/data_table.ipynb>data table notebook</a>'\n",
              "          + ' to learn more about interactive tables.';\n",
              "        element.innerHTML = '';\n",
              "        dataTable['output_type'] = 'display_data';\n",
              "        await google.colab.output.renderOutput(dataTable, element);\n",
              "        const docLink = document.createElement('div');\n",
              "        docLink.innerHTML = docLinkHtml;\n",
              "        element.appendChild(docLink);\n",
              "      }\n",
              "    </script>\n",
              "  </div>\n",
              "\n",
              "\n",
              "<div id=\"df-89962b98-8583-4285-97ea-85efc88ab40f\">\n",
              "  <button class=\"colab-df-quickchart\" onclick=\"quickchart('df-89962b98-8583-4285-97ea-85efc88ab40f')\"\n",
              "            title=\"Suggest charts\"\n",
              "            style=\"display:none;\">\n",
              "\n",
              "<svg xmlns=\"http://www.w3.org/2000/svg\" height=\"24px\"viewBox=\"0 0 24 24\"\n",
              "     width=\"24px\">\n",
              "    <g>\n",
              "        <path d=\"M19 3H5c-1.1 0-2 .9-2 2v14c0 1.1.9 2 2 2h14c1.1 0 2-.9 2-2V5c0-1.1-.9-2-2-2zM9 17H7v-7h2v7zm4 0h-2V7h2v10zm4 0h-2v-4h2v4z\"/>\n",
              "    </g>\n",
              "</svg>\n",
              "  </button>\n",
              "\n",
              "<style>\n",
              "  .colab-df-quickchart {\n",
              "      --bg-color: #E8F0FE;\n",
              "      --fill-color: #1967D2;\n",
              "      --hover-bg-color: #E2EBFA;\n",
              "      --hover-fill-color: #174EA6;\n",
              "      --disabled-fill-color: #AAA;\n",
              "      --disabled-bg-color: #DDD;\n",
              "  }\n",
              "\n",
              "  [theme=dark] .colab-df-quickchart {\n",
              "      --bg-color: #3B4455;\n",
              "      --fill-color: #D2E3FC;\n",
              "      --hover-bg-color: #434B5C;\n",
              "      --hover-fill-color: #FFFFFF;\n",
              "      --disabled-bg-color: #3B4455;\n",
              "      --disabled-fill-color: #666;\n",
              "  }\n",
              "\n",
              "  .colab-df-quickchart {\n",
              "    background-color: var(--bg-color);\n",
              "    border: none;\n",
              "    border-radius: 50%;\n",
              "    cursor: pointer;\n",
              "    display: none;\n",
              "    fill: var(--fill-color);\n",
              "    height: 32px;\n",
              "    padding: 0;\n",
              "    width: 32px;\n",
              "  }\n",
              "\n",
              "  .colab-df-quickchart:hover {\n",
              "    background-color: var(--hover-bg-color);\n",
              "    box-shadow: 0 1px 2px rgba(60, 64, 67, 0.3), 0 1px 3px 1px rgba(60, 64, 67, 0.15);\n",
              "    fill: var(--button-hover-fill-color);\n",
              "  }\n",
              "\n",
              "  .colab-df-quickchart-complete:disabled,\n",
              "  .colab-df-quickchart-complete:disabled:hover {\n",
              "    background-color: var(--disabled-bg-color);\n",
              "    fill: var(--disabled-fill-color);\n",
              "    box-shadow: none;\n",
              "  }\n",
              "\n",
              "  .colab-df-spinner {\n",
              "    border: 2px solid var(--fill-color);\n",
              "    border-color: transparent;\n",
              "    border-bottom-color: var(--fill-color);\n",
              "    animation:\n",
              "      spin 1s steps(1) infinite;\n",
              "  }\n",
              "\n",
              "  @keyframes spin {\n",
              "    0% {\n",
              "      border-color: transparent;\n",
              "      border-bottom-color: var(--fill-color);\n",
              "      border-left-color: var(--fill-color);\n",
              "    }\n",
              "    20% {\n",
              "      border-color: transparent;\n",
              "      border-left-color: var(--fill-color);\n",
              "      border-top-color: var(--fill-color);\n",
              "    }\n",
              "    30% {\n",
              "      border-color: transparent;\n",
              "      border-left-color: var(--fill-color);\n",
              "      border-top-color: var(--fill-color);\n",
              "      border-right-color: var(--fill-color);\n",
              "    }\n",
              "    40% {\n",
              "      border-color: transparent;\n",
              "      border-right-color: var(--fill-color);\n",
              "      border-top-color: var(--fill-color);\n",
              "    }\n",
              "    60% {\n",
              "      border-color: transparent;\n",
              "      border-right-color: var(--fill-color);\n",
              "    }\n",
              "    80% {\n",
              "      border-color: transparent;\n",
              "      border-right-color: var(--fill-color);\n",
              "      border-bottom-color: var(--fill-color);\n",
              "    }\n",
              "    90% {\n",
              "      border-color: transparent;\n",
              "      border-bottom-color: var(--fill-color);\n",
              "    }\n",
              "  }\n",
              "</style>\n",
              "\n",
              "  <script>\n",
              "    async function quickchart(key) {\n",
              "      const quickchartButtonEl =\n",
              "        document.querySelector('#' + key + ' button');\n",
              "      quickchartButtonEl.disabled = true;  // To prevent multiple clicks.\n",
              "      quickchartButtonEl.classList.add('colab-df-spinner');\n",
              "      try {\n",
              "        const charts = await google.colab.kernel.invokeFunction(\n",
              "            'suggestCharts', [key], {});\n",
              "      } catch (error) {\n",
              "        console.error('Error during call to suggestCharts:', error);\n",
              "      }\n",
              "      quickchartButtonEl.classList.remove('colab-df-spinner');\n",
              "      quickchartButtonEl.classList.add('colab-df-quickchart-complete');\n",
              "    }\n",
              "    (() => {\n",
              "      let quickchartButtonEl =\n",
              "        document.querySelector('#df-89962b98-8583-4285-97ea-85efc88ab40f button');\n",
              "      quickchartButtonEl.style.display =\n",
              "        google.colab.kernel.accessAllowed ? 'block' : 'none';\n",
              "    })();\n",
              "  </script>\n",
              "</div>\n",
              "    </div>\n",
              "  </div>\n"
            ]
          },
          "metadata": {},
          "execution_count": 48
        }
      ]
    },
    {
      "cell_type": "code",
      "source": [
        "# Group the DataFrame by 'user_session' and find the first and last event times\n",
        "session_times = df.groupby('user_session')['event_time'].agg(['min', 'max'])\n",
        "\n",
        "# Calculate session durations\n",
        "session_times['session_duration'] = session_times['max'] - session_times['min']\n",
        "\n",
        "# View the calculated session durations\n",
        "print('Session Duration: Day Gap Between First and Last Event per User Session: ')\n",
        "session_times['session_duration']"
      ],
      "metadata": {
        "colab": {
          "base_uri": "https://localhost:8080/"
        },
        "id": "NrdjzAP_TLwm",
        "outputId": "a1687410-97d8-4d7e-abee-34cc81138836"
      },
      "execution_count": null,
      "outputs": [
        {
          "output_type": "stream",
          "name": "stdout",
          "text": [
            "Session Duration: Day Gap Between First and Last Event per User Session: \n"
          ]
        },
        {
          "output_type": "execute_result",
          "data": {
            "text/plain": [
              "user_session\n",
              "00000056-a206-40dd-b174-a072550fa38c   0 days\n",
              "00000083-8816-4d58-a9b8-f52f54186edc   0 days\n",
              "000001fd-1f89-45e8-a3ce-fe3218cabfad   0 days\n",
              "000003eb-b63e-45d9-9f26-f229057c654a   0 days\n",
              "0000047e-bdcc-4854-9e8d-9da7f84010ae   0 days\n",
              "                                        ...  \n",
              "fffff1fc-eac8-455c-b280-30e5f94f0e69   0 days\n",
              "fffff348-977d-497e-b37a-8068b0ef6175   0 days\n",
              "fffff6b0-1ade-413d-b9b4-5fb0dd26aa34   0 days\n",
              "fffff79f-a682-4f63-ad94-8364fe3d648f   0 days\n",
              "fffffa1b-a6f0-483a-8f4b-30db242889b6   0 days\n",
              "Name: session_duration, Length: 6419693, dtype: timedelta64[ns]"
            ]
          },
          "metadata": {},
          "execution_count": 61
        }
      ]
    },
    {
      "cell_type": "markdown",
      "source": [
        "We can say that, all user mostly will come back to the session within the day."
      ],
      "metadata": {
        "id": "eJK0KKvOUfn8"
      }
    },
    {
      "cell_type": "code",
      "source": [
        "# Filter purchase and repurchase events\n",
        "purchase_events = df[df['event_type'] == 'purchase']\n",
        "\n",
        "# Group by brand and calculate purchase and repurchase counts\n",
        "purchase_counts = purchase_events.groupby('brand')['event_type'].count()\n",
        "\n",
        "# Calculate average purchase and repurchase counts per brand\n",
        "average_purchase_counts = purchase_counts / purchase_events['brand'].nunique()\n",
        "\n",
        "# Combine average purchase and repurchase counts into one DataFrame\n",
        "brand_statistics = pd.DataFrame({'Average_Purchase_Count': average_purchase_counts,})\n",
        "\n",
        "# Find top 5 brands with the largest average purchased and repurchased counts\n",
        "top_5_brands_purchase = brand_statistics.nlargest(5, 'Average_Purchase_Count')\n",
        "\n",
        "print(\"Top 5 Brands with Largest Average Purchase Counts:\")\n",
        "print(top_5_brands_purchase)"
      ],
      "metadata": {
        "colab": {
          "base_uri": "https://localhost:8080/"
        },
        "id": "vM8oJZvGX53b",
        "outputId": "52077dc5-4ca5-4be2-ed25-d5536ac8254f"
      },
      "execution_count": null,
      "outputs": [
        {
          "output_type": "stream",
          "name": "stdout",
          "text": [
            "Top 5 Brands with Largest Average Purchase Counts:\n",
            "         Average_Purchase_Count\n",
            "brand                          \n",
            "samsung              149.523764\n",
            "apple                123.735741\n",
            "xiaomi                40.832700\n",
            "huawei                20.340304\n",
            "oppo                   9.426806\n"
          ]
        }
      ]
    },
    {
      "cell_type": "code",
      "source": [
        "numeric_columns = df.select_dtypes(include=['float32', 'int64', 'int32']).columns\n",
        "correlation_matrix = df[numeric_columns].corr()\n",
        "display(correlation_matrix)"
      ],
      "metadata": {
        "colab": {
          "base_uri": "https://localhost:8080/",
          "height": 175
        },
        "id": "rgk7knnv-rh4",
        "outputId": "044d6651-756d-4e3c-93e2-26288c94a27f"
      },
      "execution_count": null,
      "outputs": [
        {
          "output_type": "display_data",
          "data": {
            "text/plain": [
              "             product_id  category_id     price   user_id\n",
              "product_id     1.000000     0.323025 -0.275551 -0.045002\n",
              "category_id    0.323025     1.000000 -0.050600 -0.007628\n",
              "price         -0.275551    -0.050600  1.000000 -0.016312\n",
              "user_id       -0.045002    -0.007628 -0.016312  1.000000"
            ],
            "text/html": [
              "\n",
              "  <div id=\"df-32cf7e2b-f0d5-420f-acfc-4a6ba925dbe3\" class=\"colab-df-container\">\n",
              "    <div>\n",
              "<style scoped>\n",
              "    .dataframe tbody tr th:only-of-type {\n",
              "        vertical-align: middle;\n",
              "    }\n",
              "\n",
              "    .dataframe tbody tr th {\n",
              "        vertical-align: top;\n",
              "    }\n",
              "\n",
              "    .dataframe thead th {\n",
              "        text-align: right;\n",
              "    }\n",
              "</style>\n",
              "<table border=\"1\" class=\"dataframe\">\n",
              "  <thead>\n",
              "    <tr style=\"text-align: right;\">\n",
              "      <th></th>\n",
              "      <th>product_id</th>\n",
              "      <th>category_id</th>\n",
              "      <th>price</th>\n",
              "      <th>user_id</th>\n",
              "    </tr>\n",
              "  </thead>\n",
              "  <tbody>\n",
              "    <tr>\n",
              "      <th>product_id</th>\n",
              "      <td>1.000000</td>\n",
              "      <td>0.323025</td>\n",
              "      <td>-0.275551</td>\n",
              "      <td>-0.045002</td>\n",
              "    </tr>\n",
              "    <tr>\n",
              "      <th>category_id</th>\n",
              "      <td>0.323025</td>\n",
              "      <td>1.000000</td>\n",
              "      <td>-0.050600</td>\n",
              "      <td>-0.007628</td>\n",
              "    </tr>\n",
              "    <tr>\n",
              "      <th>price</th>\n",
              "      <td>-0.275551</td>\n",
              "      <td>-0.050600</td>\n",
              "      <td>1.000000</td>\n",
              "      <td>-0.016312</td>\n",
              "    </tr>\n",
              "    <tr>\n",
              "      <th>user_id</th>\n",
              "      <td>-0.045002</td>\n",
              "      <td>-0.007628</td>\n",
              "      <td>-0.016312</td>\n",
              "      <td>1.000000</td>\n",
              "    </tr>\n",
              "  </tbody>\n",
              "</table>\n",
              "</div>\n",
              "    <div class=\"colab-df-buttons\">\n",
              "\n",
              "  <div class=\"colab-df-container\">\n",
              "    <button class=\"colab-df-convert\" onclick=\"convertToInteractive('df-32cf7e2b-f0d5-420f-acfc-4a6ba925dbe3')\"\n",
              "            title=\"Convert this dataframe to an interactive table.\"\n",
              "            style=\"display:none;\">\n",
              "\n",
              "  <svg xmlns=\"http://www.w3.org/2000/svg\" height=\"24px\" viewBox=\"0 -960 960 960\">\n",
              "    <path d=\"M120-120v-720h720v720H120Zm60-500h600v-160H180v160Zm220 220h160v-160H400v160Zm0 220h160v-160H400v160ZM180-400h160v-160H180v160Zm440 0h160v-160H620v160ZM180-180h160v-160H180v160Zm440 0h160v-160H620v160Z\"/>\n",
              "  </svg>\n",
              "    </button>\n",
              "\n",
              "  <style>\n",
              "    .colab-df-container {\n",
              "      display:flex;\n",
              "      gap: 12px;\n",
              "    }\n",
              "\n",
              "    .colab-df-convert {\n",
              "      background-color: #E8F0FE;\n",
              "      border: none;\n",
              "      border-radius: 50%;\n",
              "      cursor: pointer;\n",
              "      display: none;\n",
              "      fill: #1967D2;\n",
              "      height: 32px;\n",
              "      padding: 0 0 0 0;\n",
              "      width: 32px;\n",
              "    }\n",
              "\n",
              "    .colab-df-convert:hover {\n",
              "      background-color: #E2EBFA;\n",
              "      box-shadow: 0px 1px 2px rgba(60, 64, 67, 0.3), 0px 1px 3px 1px rgba(60, 64, 67, 0.15);\n",
              "      fill: #174EA6;\n",
              "    }\n",
              "\n",
              "    .colab-df-buttons div {\n",
              "      margin-bottom: 4px;\n",
              "    }\n",
              "\n",
              "    [theme=dark] .colab-df-convert {\n",
              "      background-color: #3B4455;\n",
              "      fill: #D2E3FC;\n",
              "    }\n",
              "\n",
              "    [theme=dark] .colab-df-convert:hover {\n",
              "      background-color: #434B5C;\n",
              "      box-shadow: 0px 1px 3px 1px rgba(0, 0, 0, 0.15);\n",
              "      filter: drop-shadow(0px 1px 2px rgba(0, 0, 0, 0.3));\n",
              "      fill: #FFFFFF;\n",
              "    }\n",
              "  </style>\n",
              "\n",
              "    <script>\n",
              "      const buttonEl =\n",
              "        document.querySelector('#df-32cf7e2b-f0d5-420f-acfc-4a6ba925dbe3 button.colab-df-convert');\n",
              "      buttonEl.style.display =\n",
              "        google.colab.kernel.accessAllowed ? 'block' : 'none';\n",
              "\n",
              "      async function convertToInteractive(key) {\n",
              "        const element = document.querySelector('#df-32cf7e2b-f0d5-420f-acfc-4a6ba925dbe3');\n",
              "        const dataTable =\n",
              "          await google.colab.kernel.invokeFunction('convertToInteractive',\n",
              "                                                    [key], {});\n",
              "        if (!dataTable) return;\n",
              "\n",
              "        const docLinkHtml = 'Like what you see? Visit the ' +\n",
              "          '<a target=\"_blank\" href=https://colab.research.google.com/notebooks/data_table.ipynb>data table notebook</a>'\n",
              "          + ' to learn more about interactive tables.';\n",
              "        element.innerHTML = '';\n",
              "        dataTable['output_type'] = 'display_data';\n",
              "        await google.colab.output.renderOutput(dataTable, element);\n",
              "        const docLink = document.createElement('div');\n",
              "        docLink.innerHTML = docLinkHtml;\n",
              "        element.appendChild(docLink);\n",
              "      }\n",
              "    </script>\n",
              "  </div>\n",
              "\n",
              "\n",
              "<div id=\"df-1562d365-1286-456a-86b0-0b8fc3a5a655\">\n",
              "  <button class=\"colab-df-quickchart\" onclick=\"quickchart('df-1562d365-1286-456a-86b0-0b8fc3a5a655')\"\n",
              "            title=\"Suggest charts\"\n",
              "            style=\"display:none;\">\n",
              "\n",
              "<svg xmlns=\"http://www.w3.org/2000/svg\" height=\"24px\"viewBox=\"0 0 24 24\"\n",
              "     width=\"24px\">\n",
              "    <g>\n",
              "        <path d=\"M19 3H5c-1.1 0-2 .9-2 2v14c0 1.1.9 2 2 2h14c1.1 0 2-.9 2-2V5c0-1.1-.9-2-2-2zM9 17H7v-7h2v7zm4 0h-2V7h2v10zm4 0h-2v-4h2v4z\"/>\n",
              "    </g>\n",
              "</svg>\n",
              "  </button>\n",
              "\n",
              "<style>\n",
              "  .colab-df-quickchart {\n",
              "      --bg-color: #E8F0FE;\n",
              "      --fill-color: #1967D2;\n",
              "      --hover-bg-color: #E2EBFA;\n",
              "      --hover-fill-color: #174EA6;\n",
              "      --disabled-fill-color: #AAA;\n",
              "      --disabled-bg-color: #DDD;\n",
              "  }\n",
              "\n",
              "  [theme=dark] .colab-df-quickchart {\n",
              "      --bg-color: #3B4455;\n",
              "      --fill-color: #D2E3FC;\n",
              "      --hover-bg-color: #434B5C;\n",
              "      --hover-fill-color: #FFFFFF;\n",
              "      --disabled-bg-color: #3B4455;\n",
              "      --disabled-fill-color: #666;\n",
              "  }\n",
              "\n",
              "  .colab-df-quickchart {\n",
              "    background-color: var(--bg-color);\n",
              "    border: none;\n",
              "    border-radius: 50%;\n",
              "    cursor: pointer;\n",
              "    display: none;\n",
              "    fill: var(--fill-color);\n",
              "    height: 32px;\n",
              "    padding: 0;\n",
              "    width: 32px;\n",
              "  }\n",
              "\n",
              "  .colab-df-quickchart:hover {\n",
              "    background-color: var(--hover-bg-color);\n",
              "    box-shadow: 0 1px 2px rgba(60, 64, 67, 0.3), 0 1px 3px 1px rgba(60, 64, 67, 0.15);\n",
              "    fill: var(--button-hover-fill-color);\n",
              "  }\n",
              "\n",
              "  .colab-df-quickchart-complete:disabled,\n",
              "  .colab-df-quickchart-complete:disabled:hover {\n",
              "    background-color: var(--disabled-bg-color);\n",
              "    fill: var(--disabled-fill-color);\n",
              "    box-shadow: none;\n",
              "  }\n",
              "\n",
              "  .colab-df-spinner {\n",
              "    border: 2px solid var(--fill-color);\n",
              "    border-color: transparent;\n",
              "    border-bottom-color: var(--fill-color);\n",
              "    animation:\n",
              "      spin 1s steps(1) infinite;\n",
              "  }\n",
              "\n",
              "  @keyframes spin {\n",
              "    0% {\n",
              "      border-color: transparent;\n",
              "      border-bottom-color: var(--fill-color);\n",
              "      border-left-color: var(--fill-color);\n",
              "    }\n",
              "    20% {\n",
              "      border-color: transparent;\n",
              "      border-left-color: var(--fill-color);\n",
              "      border-top-color: var(--fill-color);\n",
              "    }\n",
              "    30% {\n",
              "      border-color: transparent;\n",
              "      border-left-color: var(--fill-color);\n",
              "      border-top-color: var(--fill-color);\n",
              "      border-right-color: var(--fill-color);\n",
              "    }\n",
              "    40% {\n",
              "      border-color: transparent;\n",
              "      border-right-color: var(--fill-color);\n",
              "      border-top-color: var(--fill-color);\n",
              "    }\n",
              "    60% {\n",
              "      border-color: transparent;\n",
              "      border-right-color: var(--fill-color);\n",
              "    }\n",
              "    80% {\n",
              "      border-color: transparent;\n",
              "      border-right-color: var(--fill-color);\n",
              "      border-bottom-color: var(--fill-color);\n",
              "    }\n",
              "    90% {\n",
              "      border-color: transparent;\n",
              "      border-bottom-color: var(--fill-color);\n",
              "    }\n",
              "  }\n",
              "</style>\n",
              "\n",
              "  <script>\n",
              "    async function quickchart(key) {\n",
              "      const quickchartButtonEl =\n",
              "        document.querySelector('#' + key + ' button');\n",
              "      quickchartButtonEl.disabled = true;  // To prevent multiple clicks.\n",
              "      quickchartButtonEl.classList.add('colab-df-spinner');\n",
              "      try {\n",
              "        const charts = await google.colab.kernel.invokeFunction(\n",
              "            'suggestCharts', [key], {});\n",
              "      } catch (error) {\n",
              "        console.error('Error during call to suggestCharts:', error);\n",
              "      }\n",
              "      quickchartButtonEl.classList.remove('colab-df-spinner');\n",
              "      quickchartButtonEl.classList.add('colab-df-quickchart-complete');\n",
              "    }\n",
              "    (() => {\n",
              "      let quickchartButtonEl =\n",
              "        document.querySelector('#df-1562d365-1286-456a-86b0-0b8fc3a5a655 button');\n",
              "      quickchartButtonEl.style.display =\n",
              "        google.colab.kernel.accessAllowed ? 'block' : 'none';\n",
              "    })();\n",
              "  </script>\n",
              "</div>\n",
              "    </div>\n",
              "  </div>\n"
            ]
          },
          "metadata": {}
        }
      ]
    },
    {
      "cell_type": "markdown",
      "source": [
        "The columns suitable for correlation analysis appear to be product_id, category_id, user_id and price, as they contain numerical data. However, it's essential to note that using correlation coefficients between non-continuous variables (like product_id, user_id and category_id) might not provide meaningful insights as correlation is primarily used for continuous variables."
      ],
      "metadata": {
        "id": "EsQLuvMqBClA"
      }
    },
    {
      "cell_type": "markdown",
      "source": [
        "The values in the matrix will range between -1 and 1, indicating the strength and direction of the linear relationship between pairs of variables. A value closer to 1 or -1 implies a strong positive or negative correlation, respectively, while a value around 0 indicates a weak correlation."
      ],
      "metadata": {
        "id": "w39pxuE3B-qK"
      }
    },
    {
      "cell_type": "code",
      "source": [],
      "metadata": {
        "id": "a7RUJN9VQl-4"
      },
      "execution_count": null,
      "outputs": []
    }
  ],
  "metadata": {
    "colab": {
      "provenance": [],
      "include_colab_link": true
    },
    "kernelspec": {
      "display_name": "Python 3",
      "name": "python3"
    },
    "language_info": {
      "name": "python"
    }
  },
  "nbformat": 4,
  "nbformat_minor": 0
}